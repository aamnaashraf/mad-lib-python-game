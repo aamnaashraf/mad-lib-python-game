{
  "nbformat": 4,
  "nbformat_minor": 0,
  "metadata": {
    "colab": {
      "provenance": [],
      "authorship_tag": "ABX9TyNfOTtHPDa+CLCI5S4LBXGF",
      "include_colab_link": true
    },
    "kernelspec": {
      "name": "python3",
      "display_name": "Python 3"
    },
    "language_info": {
      "name": "python"
    }
  },
  "cells": [
    {
      "cell_type": "markdown",
      "metadata": {
        "id": "view-in-github",
        "colab_type": "text"
      },
      "source": [
        "<a href=\"https://colab.research.google.com/github/aamnaashraf/mad-lib-python-game/blob/main/mad_lib_game.ipynb\" target=\"_parent\"><img src=\"https://colab.research.google.com/assets/colab-badge.svg\" alt=\"Open In Colab\"/></a>"
      ]
    },
    {
      "cell_type": "code",
      "source": [
        "# Weekend Fun Story with Two Characters\n",
        "\n",
        "def get_words():\n",
        "    print(\"Welcome to Mad Libs! Let's create a fun weekend story.\")\n",
        "    name1 = input(\"Enter the first character's name: \")\n",
        "    name2 = input(\"Enter the second character's name: \")\n",
        "    place = input(\"Enter a place for the weekend trip: \")\n",
        "    activity1 = input(\"Enter a fun activity (e.g., hiking, dancing): \")\n",
        "    food = input(\"Enter a favorite food: \")\n",
        "    vehicle = input(\"Enter a vehicle (e.g., car, bike): \")\n",
        "    emotion = input(\"Enter an emotion (e.g., excited, happy): \")\n",
        "    surprise = input(\"Enter a surprise element (e.g., rainbow, treasure): \")\n",
        "    return name1, name2, place, activity1, food, vehicle, emotion, surprise\n",
        "\n",
        "def generate_story(name1, name2, place, activity1, food, vehicle, emotion, surprise):\n",
        "    story = f\"\"\"\n",
        "    Last weekend, {name1} and {name2} decided to go on a fun trip to {place}.\n",
        "    They packed their favorite {food} and hopped into their {vehicle} for the journey.\n",
        "    When they reached {place}, they started {activity1} and had the time of their lives!\n",
        "    Suddenly, they saw a {surprise} and couldn't believe their eyes.\n",
        "    They felt {emotion} and spent the rest of the day exploring and enjoying every moment.\n",
        "    It was a weekend they would never forget!\n",
        "    \"\"\"\n",
        "    return story\n",
        "\n",
        "def mad_libs_game():\n",
        "\n",
        "    name1, name2, place, activity1, food, vehicle, emotion, surprise = get_words()\n",
        "\n",
        "\n",
        "    story = generate_story(name1, name2, place, activity1, food, vehicle, emotion, surprise)\n",
        "    print(\"\\nHere's your Mad Libs story:\\n\")\n",
        "    print(story)\n",
        "\n",
        "\n",
        "mad_libs_game()"
      ],
      "metadata": {
        "id": "DzACjvSna3q7",
        "colab": {
          "base_uri": "https://localhost:8080/"
        },
        "outputId": "1851e482-dcfd-4e3a-a443-910ec210f9a5"
      },
      "execution_count": null,
      "outputs": [
        {
          "output_type": "stream",
          "name": "stdout",
          "text": [
            "Welcome to Mad Libs! Let's create a fun weekend story.\n",
            "Enter the first character's name: Aamna\n",
            "Enter the second character's name: Haya\n",
            "Enter a place for the weekend trip: park\n",
            "Enter a fun activity (e.g., hiking, dancing): playing on swings\n",
            "Enter a favorite food: fries and pizza\n",
            "Enter a vehicle (e.g., car, bike): car\n",
            "Enter an emotion (e.g., excited, happy): happy\n",
            "Enter a surprise element (e.g., rainbow, treasure): beautiful amazing rainfall\n",
            "\n",
            "Here's your Mad Libs story:\n",
            "\n",
            "\n",
            "    Last weekend, Aamna and Haya decided to go on a fun trip to park.\n",
            "    They packed their favorite fries and pizza and hopped into their car for the journey.\n",
            "    When they reached park, they started playing on swings and had the time of their lives!\n",
            "    Suddenly, they saw a beautiful amazing rainfall and couldn't believe their eyes.\n",
            "    They felt happy and spent the rest of the day exploring and enjoying every moment.\n",
            "    It was a weekend they would never forget!\n",
            "    \n"
          ]
        }
      ]
    }
  ]
}